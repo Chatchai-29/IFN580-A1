{
 "cells": [
  {
   "cell_type": "markdown",
   "id": "90861ecd",
   "metadata": {},
   "source": [
    "\n",
    "# IFN580 – Assignment 1: Starter Notebook\n"
   ]
  },
  {
   "cell_type": "markdown",
   "id": "2fd565c5-35d0-4c27-ae83-dbda10ac8b49",
   "metadata": {},
   "source": [
    "## Task 1"
   ]
  },
  {
   "cell_type": "code",
   "execution_count": 2,
   "id": "441b2238",
   "metadata": {},
   "outputs": [
    {
     "name": "stdout",
     "output_type": "stream",
     "text": [
      "Requirement already satisfied: imblearn in c:\\users\\chatc\\anaconda3\\lib\\site-packages (0.0)\n",
      "Requirement already satisfied: imbalanced-learn in c:\\users\\chatc\\anaconda3\\lib\\site-packages (from imblearn) (0.12.3)\n",
      "Requirement already satisfied: numpy>=1.17.3 in c:\\users\\chatc\\anaconda3\\lib\\site-packages (from imbalanced-learn->imblearn) (1.26.4)\n",
      "Requirement already satisfied: scipy>=1.5.0 in c:\\users\\chatc\\anaconda3\\lib\\site-packages (from imbalanced-learn->imblearn) (1.13.1)\n",
      "Requirement already satisfied: scikit-learn>=1.0.2 in c:\\users\\chatc\\anaconda3\\lib\\site-packages (from imbalanced-learn->imblearn) (1.5.1)\n",
      "Requirement already satisfied: joblib>=1.1.1 in c:\\users\\chatc\\anaconda3\\lib\\site-packages (from imbalanced-learn->imblearn) (1.4.2)\n",
      "Requirement already satisfied: threadpoolctl>=2.0.0 in c:\\users\\chatc\\anaconda3\\lib\\site-packages (from imbalanced-learn->imblearn) (3.5.0)\n"
     ]
    }
   ],
   "source": [
    "# 1.1) Config & Imports\n",
    "RANDOM_STATE = 42\n",
    "TARGET_COL = \"IsBadBuy\"  # change if your target column differs\n",
    "!pip install imblearn\n",
    "\n",
    "import os, warnings\n",
    "import numpy as np\n",
    "import pandas as pd\n",
    "\n",
    "from sklearn.model_selection import train_test_split\n",
    "from sklearn.compose import ColumnTransformer\n",
    "from sklearn.pipeline import Pipeline\n",
    "from sklearn.preprocessing import OneHotEncoder, StandardScaler\n",
    "from sklearn.impute import SimpleImputer\n",
    "from sklearn.model_selection import GridSearchCV\n",
    "from sklearn.tree import DecisionTreeClassifier\n",
    "\n",
    "import matplotlib.pyplot as plt\n",
    "warnings.filterwarnings(\"ignore\")\n",
    "\n",
    "# Ensure inline plots in classic Notebook\n",
    "%matplotlib inline"
   ]
  },
  {
   "cell_type": "code",
   "execution_count": 3,
   "id": "89d25247",
   "metadata": {},
   "outputs": [
    {
     "name": "stdout",
     "output_type": "stream",
     "text": [
      "Using data at: data/kick.csv\n",
      "(41476, 31)\n"
     ]
    },
    {
     "data": {
      "text/html": [
       "<div>\n",
       "<style scoped>\n",
       "    .dataframe tbody tr th:only-of-type {\n",
       "        vertical-align: middle;\n",
       "    }\n",
       "\n",
       "    .dataframe tbody tr th {\n",
       "        vertical-align: top;\n",
       "    }\n",
       "\n",
       "    .dataframe thead th {\n",
       "        text-align: right;\n",
       "    }\n",
       "</style>\n",
       "<table border=\"1\" class=\"dataframe\">\n",
       "  <thead>\n",
       "    <tr style=\"text-align: right;\">\n",
       "      <th></th>\n",
       "      <th>PurchaseID</th>\n",
       "      <th>PurchaseTimestamp</th>\n",
       "      <th>PurchaseDate</th>\n",
       "      <th>Auction</th>\n",
       "      <th>VehYear</th>\n",
       "      <th>Make</th>\n",
       "      <th>Color</th>\n",
       "      <th>Transmission</th>\n",
       "      <th>WheelTypeID</th>\n",
       "      <th>WheelType</th>\n",
       "      <th>...</th>\n",
       "      <th>MMRCurrentRetailCleanPrice</th>\n",
       "      <th>MMRCurrentRetailRatio</th>\n",
       "      <th>PRIMEUNIT</th>\n",
       "      <th>AUCGUART</th>\n",
       "      <th>VNST</th>\n",
       "      <th>VehBCost</th>\n",
       "      <th>IsOnlineSale</th>\n",
       "      <th>WarrantyCost</th>\n",
       "      <th>ForSale</th>\n",
       "      <th>IsBadBuy</th>\n",
       "    </tr>\n",
       "  </thead>\n",
       "  <tbody>\n",
       "    <tr>\n",
       "      <th>0</th>\n",
       "      <td>0</td>\n",
       "      <td>1253232000</td>\n",
       "      <td>18/09/2009 10:00</td>\n",
       "      <td>OTHER</td>\n",
       "      <td>2008.0</td>\n",
       "      <td>DODGE</td>\n",
       "      <td>RED</td>\n",
       "      <td>AUTO</td>\n",
       "      <td>2</td>\n",
       "      <td>Covers</td>\n",
       "      <td>...</td>\n",
       "      <td>12505</td>\n",
       "      <td>0.941783287</td>\n",
       "      <td>NaN</td>\n",
       "      <td>NaN</td>\n",
       "      <td>NC</td>\n",
       "      <td>7800</td>\n",
       "      <td>0.0</td>\n",
       "      <td>920.0</td>\n",
       "      <td>Yes</td>\n",
       "      <td>0</td>\n",
       "    </tr>\n",
       "    <tr>\n",
       "      <th>1</th>\n",
       "      <td>1</td>\n",
       "      <td>1253232000</td>\n",
       "      <td>18/09/2009 10:00</td>\n",
       "      <td>OTHER</td>\n",
       "      <td>2008.0</td>\n",
       "      <td>DODGE</td>\n",
       "      <td>RED</td>\n",
       "      <td>AUTO</td>\n",
       "      <td>2</td>\n",
       "      <td>Covers</td>\n",
       "      <td>...</td>\n",
       "      <td>10571</td>\n",
       "      <td>0.922618485</td>\n",
       "      <td>NaN</td>\n",
       "      <td>NaN</td>\n",
       "      <td>NC</td>\n",
       "      <td>7800</td>\n",
       "      <td>0.0</td>\n",
       "      <td>834.0</td>\n",
       "      <td>Yes</td>\n",
       "      <td>0</td>\n",
       "    </tr>\n",
       "    <tr>\n",
       "      <th>2</th>\n",
       "      <td>2</td>\n",
       "      <td>1253232000</td>\n",
       "      <td>18/09/2009 10:00</td>\n",
       "      <td>OTHER</td>\n",
       "      <td>2008.0</td>\n",
       "      <td>CHRYSLER</td>\n",
       "      <td>SILVER</td>\n",
       "      <td>AUTO</td>\n",
       "      <td>2</td>\n",
       "      <td>Covers</td>\n",
       "      <td>...</td>\n",
       "      <td>9932</td>\n",
       "      <td>0.935159082</td>\n",
       "      <td>NaN</td>\n",
       "      <td>NaN</td>\n",
       "      <td>NC</td>\n",
       "      <td>7800</td>\n",
       "      <td>0.0</td>\n",
       "      <td>834.0</td>\n",
       "      <td>Yes</td>\n",
       "      <td>0</td>\n",
       "    </tr>\n",
       "  </tbody>\n",
       "</table>\n",
       "<p>3 rows × 31 columns</p>\n",
       "</div>"
      ],
      "text/plain": [
       "   PurchaseID  PurchaseTimestamp      PurchaseDate Auction  VehYear      Make  \\\n",
       "0           0         1253232000  18/09/2009 10:00   OTHER   2008.0     DODGE   \n",
       "1           1         1253232000  18/09/2009 10:00   OTHER   2008.0     DODGE   \n",
       "2           2         1253232000  18/09/2009 10:00   OTHER   2008.0  CHRYSLER   \n",
       "\n",
       "    Color Transmission WheelTypeID WheelType  ...  MMRCurrentRetailCleanPrice  \\\n",
       "0     RED         AUTO           2    Covers  ...                       12505   \n",
       "1     RED         AUTO           2    Covers  ...                       10571   \n",
       "2  SILVER         AUTO           2    Covers  ...                        9932   \n",
       "\n",
       "  MMRCurrentRetailRatio PRIMEUNIT AUCGUART VNST VehBCost IsOnlineSale  \\\n",
       "0           0.941783287       NaN      NaN   NC     7800          0.0   \n",
       "1           0.922618485       NaN      NaN   NC     7800          0.0   \n",
       "2           0.935159082       NaN      NaN   NC     7800          0.0   \n",
       "\n",
       "  WarrantyCost ForSale IsBadBuy  \n",
       "0        920.0     Yes        0  \n",
       "1        834.0     Yes        0  \n",
       "2        834.0     Yes        0  \n",
       "\n",
       "[3 rows x 31 columns]"
      ]
     },
     "metadata": {},
     "output_type": "display_data"
    }
   ],
   "source": [
    "# 1.2) Load Data (robust search + sentinel handling)\n",
    "DATA_PATHS = [\n",
    "    \"data/kick.csv\",\n",
    "    \"kick.csv\",\n",
    "    \"assignment 1 data kick.csv\",\n",
    "    \"./data/kick.csv\",\n",
    "]\n",
    "\n",
    "def find_data(paths):\n",
    "    for p in paths:\n",
    "        if os.path.exists(p):\n",
    "            return p\n",
    "    return None\n",
    "\n",
    "DATA_PATH = find_data(DATA_PATHS)\n",
    "if DATA_PATH is None:\n",
    "    raise FileNotFoundError(\"CSV not found. Put your dataset as 'data/kick.csv' or update DATA_PATHS.\")\n",
    "\n",
    "print(f\"Using data at: {DATA_PATH}\")\n",
    "df = pd.read_csv(DATA_PATH)\n",
    "\n",
    "# Turn '?' into NaN so imputers treat them as missing\n",
    "df.replace('?', np.nan, inplace=True)\n",
    "\n",
    "print(df.shape)\n",
    "display(df.head(3))"
   ]
  },
  {
   "cell_type": "code",
   "execution_count": 4,
   "id": "8fcafe21",
   "metadata": {
    "scrolled": true
   },
   "outputs": [
    {
     "name": "stdout",
     "output_type": "stream",
     "text": [
      "Coerced to numeric: 17 | sample: ['PurchaseID', 'PurchaseTimestamp', 'VehYear', 'WheelTypeID', 'VehOdo', 'MMRAcquisitionAuctionAveragePrice', 'MMRAcquisitionAuctionCleanPrice', 'MMRAcquisitionRetailAveragePrice']\n",
      "<class 'pandas.core.frame.DataFrame'>\n",
      "RangeIndex: 41476 entries, 0 to 41475\n",
      "Data columns (total 31 columns):\n",
      " #   Column                             Non-Null Count  Dtype  \n",
      "---  ------                             --------------  -----  \n",
      " 0   PurchaseID                         41476 non-null  int64  \n",
      " 1   PurchaseTimestamp                  41476 non-null  int64  \n",
      " 2   PurchaseDate                       41476 non-null  object \n",
      " 3   Auction                            41432 non-null  object \n",
      " 4   VehYear                            41432 non-null  float64\n",
      " 5   Make                               41432 non-null  object \n",
      " 6   Color                              41426 non-null  object \n",
      " 7   Transmission                       41426 non-null  object \n",
      " 8   WheelTypeID                        39657 non-null  float64\n",
      " 9   WheelType                          39603 non-null  object \n",
      " 10  VehOdo                             41432 non-null  float64\n",
      " 11  Nationality                        41429 non-null  object \n",
      " 12  Size                               41429 non-null  object \n",
      " 13  TopThreeAmericanName               41429 non-null  object \n",
      " 14  MMRAcquisitionAuctionAveragePrice  41409 non-null  float64\n",
      " 15  MMRAcquisitionAuctionCleanPrice    41422 non-null  float64\n",
      " 16  MMRAcquisitionRetailAveragePrice   41422 non-null  float64\n",
      " 17  MMRAcquisitonRetailCleanPrice      41320 non-null  float64\n",
      " 18  MMRCurrentAuctionAveragePrice      41245 non-null  float64\n",
      " 19  MMRCurrentAuctionCleanPrice        41245 non-null  float64\n",
      " 20  MMRCurrentRetailAveragePrice       41225 non-null  float64\n",
      " 21  MMRCurrentRetailCleanPrice         41225 non-null  float64\n",
      " 22  MMRCurrentRetailRatio              40938 non-null  float64\n",
      " 23  PRIMEUNIT                          1798 non-null   object \n",
      " 24  AUCGUART                           1798 non-null   object \n",
      " 25  VNST                               41432 non-null  object \n",
      " 26  VehBCost                           41403 non-null  float64\n",
      " 27  IsOnlineSale                       41430 non-null  float64\n",
      " 28  WarrantyCost                       41432 non-null  float64\n",
      " 29  ForSale                            41473 non-null  object \n",
      " 30  IsBadBuy                           41476 non-null  int64  \n",
      "dtypes: float64(15), int64(3), object(13)\n",
      "memory usage: 9.8+ MB\n"
     ]
    },
    {
     "data": {
      "text/plain": [
       "None"
      ]
     },
     "metadata": {},
     "output_type": "display_data"
    },
    {
     "name": "stdout",
     "output_type": "stream",
     "text": [
      "Target counts (before):\n"
     ]
    },
    {
     "data": {
      "text/plain": [
       "IsBadBuy\n",
       "0    36105\n",
       "1     5371\n",
       "Name: count, dtype: int64"
      ]
     },
     "metadata": {},
     "output_type": "display_data"
    },
    {
     "name": "stdout",
     "output_type": "stream",
     "text": [
      "Target ratio (before):\n"
     ]
    },
    {
     "data": {
      "text/plain": [
       "IsBadBuy\n",
       "0    0.870503\n",
       "1    0.129497\n",
       "Name: proportion, dtype: float64"
      ]
     },
     "metadata": {},
     "output_type": "display_data"
    }
   ],
   "source": [
    "# 1.3) Quick Audit + numeric coercion (promote numeric-like object columns)\n",
    "\n",
    "# Convert object columns that look numeric into real numbers (heuristic)\n",
    "coerced = []\n",
    "for c in df.columns:\n",
    "    if c == TARGET_COL:  # don't touch the target\n",
    "        continue\n",
    "    s = pd.to_numeric(df[c], errors=\"coerce\")\n",
    "    # treat as numeric if majority converts and at least some support\n",
    "    if (s.notna().mean() > 0.6) and (s.notna().sum() > 100):\n",
    "        df[c] = s\n",
    "        coerced.append(c)\n",
    "print(\"Coerced to numeric:\", len(coerced), \"| sample:\", coerced[:8])\n",
    "\n",
    "# Basic info for Task 1 evidence\n",
    "display(df.info())\n",
    "print(\"Target counts (before):\")\n",
    "display(df[TARGET_COL].value_counts(dropna=False))\n",
    "print(\"Target ratio (before):\")\n",
    "display(df[TARGET_COL].value_counts(normalize=True))"
   ]
  },
  {
   "cell_type": "code",
   "execution_count": 5,
   "id": "b7ce7759-dfdf-48e8-982e-343729f1a582",
   "metadata": {},
   "outputs": [
    {
     "name": "stdout",
     "output_type": "stream",
     "text": [
      "Train/Test sizes: (33180, 28) (8296, 28)\n"
     ]
    }
   ],
   "source": [
    "# 1.4) Train/Test Split (stratified) and drop non-predictive columns\n",
    "drop_cols = [c for c in [\"PurchaseID\", \"PurchaseDate\"] if c in df.columns]  # keep PurchaseTimestamp\n",
    "\n",
    "y = df[TARGET_COL]\n",
    "X = df.drop(columns=[TARGET_COL] + drop_cols)\n",
    "\n",
    "X_train, X_test, y_train, y_test = train_test_split(\n",
    "    X, y, test_size=0.2, random_state=RANDOM_STATE, stratify=y\n",
    ")\n",
    "\n",
    "print(\"Train/Test sizes:\", X_train.shape, X_test.shape)"
   ]
  },
  {
   "cell_type": "code",
   "execution_count": 6,
   "id": "53195c37-3e96-4eae-b482-efe1dcc1928b",
   "metadata": {},
   "outputs": [
    {
     "name": "stdout",
     "output_type": "stream",
     "text": [
      "Numeric features: 16\n",
      "Categorical features: 12\n"
     ]
    }
   ],
   "source": [
    "# 1.5) Preprocessing Pipeline (ColumnTransformer) – sklearn-version safe\n",
    "\n",
    "# Identify feature types\n",
    "numeric_features = X_train.select_dtypes(include=[np.number]).columns.tolist()\n",
    "categorical_features = X_train.columns.difference(numeric_features).tolist()\n",
    "\n",
    "# Numeric: impute median then standardize (dense)\n",
    "numeric_transformer = Pipeline(steps=[\n",
    "    (\"imputer\", SimpleImputer(strategy=\"median\")),\n",
    "    (\"scaler\", StandardScaler())\n",
    "])\n",
    "\n",
    "# Categorical: impute mode then One-Hot Encode\n",
    "# Guard for sklearn param rename: 'sparse' (old) -> 'sparse_output' (new)\n",
    "try:\n",
    "    _ = OneHotEncoder(handle_unknown=\"ignore\", sparse_output=False)\n",
    "    ohe = OneHotEncoder(handle_unknown=\"ignore\", sparse_output=False)\n",
    "except TypeError:\n",
    "    ohe = OneHotEncoder(handle_unknown=\"ignore\", sparse=False)\n",
    "\n",
    "categorical_transformer = Pipeline(steps=[\n",
    "    (\"imputer\", SimpleImputer(strategy=\"most_frequent\")),\n",
    "    (\"onehot\", ohe)\n",
    "])\n",
    "\n",
    "preprocess = ColumnTransformer(\n",
    "    transformers=[\n",
    "        (\"num\", numeric_transformer, numeric_features),\n",
    "        (\"cat\", categorical_transformer, categorical_features),\n",
    "    ],\n",
    "    remainder=\"drop\",\n",
    "    verbose_feature_names_out=False\n",
    ")\n",
    "\n",
    "print(\"Numeric features:\", len(numeric_features))\n",
    "print(\"Categorical features:\", len(categorical_features))"
   ]
  },
  {
   "cell_type": "markdown",
   "id": "15c02b97-7660-4842-b2ce-d326b835ca4b",
   "metadata": {},
   "source": [
    "## Task2"
   ]
  },
  {
   "cell_type": "code",
   "execution_count": 7,
   "id": "9122e698-8264-4766-962d-e54db116aedc",
   "metadata": {},
   "outputs": [
    {
     "name": "stdout",
     "output_type": "stream",
     "text": [
      "Decision Tree Model Parameters:\n",
      "ccp_alpha: 0.0\n",
      "class_weight: None\n",
      "criterion: gini\n",
      "max_depth: None\n",
      "max_features: None\n",
      "max_leaf_nodes: None\n",
      "min_impurity_decrease: 0.0\n",
      "min_samples_leaf: 1\n",
      "min_samples_split: 2\n",
      "min_weight_fraction_leaf: 0.0\n",
      "monotonic_cst: None\n",
      "random_state: 42\n",
      "splitter: best\n"
     ]
    }
   ],
   "source": [
    "#1a\n",
    "\n",
    "# Instantiate the model\n",
    "dt_model = DecisionTreeClassifier(random_state=RANDOM_STATE)\n",
    "\n",
    "# Create a pipeline that first preprocesses the data and then trains the model\n",
    "dt_pipeline = Pipeline(steps=[('preprocessor', preprocess),\n",
    "                              ('classifier', dt_model)])\n",
    "\n",
    "# Train the pipeline\n",
    "dt_pipeline.fit(X_train, y_train)\n",
    "\n",
    "# Access the parameters of the trained Decision Tree model from the pipeline\n",
    "dt_params = dt_pipeline.named_steps['classifier'].get_params()\n",
    "\n",
    "# Display the parameters\n",
    "print(\"Decision Tree Model Parameters:\")\n",
    "for param, value in dt_params.items():\n",
    "    print(f\"{param}: {value}\")"
   ]
  },
  {
   "cell_type": "code",
   "execution_count": 8,
   "id": "d99375e5-c845-4c6b-bf13-b8dbca141e18",
   "metadata": {},
   "outputs": [
    {
     "name": "stdout",
     "output_type": "stream",
     "text": [
      "Test set size: 0.2\n",
      "Random state: 42\n",
      "Stratification used: IsBadBuy\n"
     ]
    }
   ],
   "source": [
    "#1bParameters used for the train/test split\n",
    "test_size = 0.2\n",
    "random_state = RANDOM_STATE # From the initial config cell\n",
    "stratify = y # The target variable\n",
    "\n",
    "print(f\"Test set size: {test_size}\")\n",
    "print(f\"Random state: {random_state}\")\n",
    "print(f\"Stratification used: {stratify.name}\")"
   ]
  },
  {
   "cell_type": "code",
   "execution_count": 9,
   "id": "c2749657-413c-457e-96bb-b7c4b9161691",
   "metadata": {},
   "outputs": [
    {
     "name": "stdout",
     "output_type": "stream",
     "text": [
      "Training Accuracy: 0.9998\n",
      "Test Accuracy: 0.7901\n"
     ]
    }
   ],
   "source": [
    "#1c\n",
    "from sklearn.metrics import accuracy_score\n",
    "\n",
    "# Predict on the training data\n",
    "y_train_pred = dt_pipeline.predict(X_train)\n",
    "\n",
    "# Calculate training accuracy\n",
    "train_acc = accuracy_score(y_train, y_train_pred)\n",
    "print(f\"Training Accuracy: {train_acc:.4f}\")\n",
    "\n",
    "# Predict on the test data\n",
    "y_test_pred = dt_pipeline.predict(X_test)\n",
    "\n",
    "# Calculate test accuracy\n",
    "test_acc = accuracy_score(y_test, y_test_pred)\n",
    "print(f\"Test Accuracy: {test_acc:.4f}\")"
   ]
  },
  {
   "cell_type": "code",
   "execution_count": 10,
   "id": "41403924-b787-4126-929a-55c2603258f2",
   "metadata": {},
   "outputs": [
    {
     "name": "stdout",
     "output_type": "stream",
     "text": [
      "The variable used for the first split is: VehYear\n",
      "\n",
      "Variables used for splits at the second level:\n",
      "- Node 1: VehBCost\n",
      "- Node 3128: WheelType_Alloy\n"
     ]
    }
   ],
   "source": [
    "#1e Get the trained Decision Tree model from the pipeline\n",
    "tree_model = dt_pipeline.named_steps['classifier']\n",
    "\n",
    "# Get the feature names after preprocessing\n",
    "preprocessor = dt_pipeline.named_steps['preprocessor']\n",
    "feature_names = preprocessor.get_feature_names_out()\n",
    "\n",
    "# Get the feature index for the root node (first split)\n",
    "first_split_feature_index = tree_model.tree_.feature[0]\n",
    "first_split_feature_name = feature_names[first_split_feature_index]\n",
    "\n",
    "print(f\"The variable used for the first split is: {first_split_feature_name}\")\n",
    "print(\"\\nVariables used for splits at the second level:\")\n",
    "\n",
    "# Get the children of the root node (nodes at the second level)\n",
    "root_node_left_child = tree_model.tree_.children_left[0]\n",
    "root_node_right_child = tree_model.tree_.children_right[0]\n",
    "\n",
    "second_level_nodes = []\n",
    "if root_node_left_child != -1:\n",
    "    second_level_nodes.append(root_node_left_child)\n",
    "if root_node_right_child != -1:\n",
    "    second_level_nodes.append(root_node_right_child)\n",
    "\n",
    "\n",
    "for node_index in second_level_nodes:\n",
    "    # Check if the node is a split node (not a leaf node)\n",
    "    if tree_model.tree_.children_left[node_index] != -1 or tree_model.tree_.children_right[node_index] != -1:\n",
    "        feature_index = tree_model.tree_.feature[node_index]\n",
    "        feature_name = feature_names[feature_index]\n",
    "        print(f\"- Node {node_index}: {feature_name}\")\n",
    "    else:\n",
    "        print(f\"- Node {node_index}: (This is a leaf node, no split)\")"
   ]
  },
  {
   "cell_type": "code",
   "execution_count": 11,
   "id": "ac0a0df1-cbf3-459d-96ed-0400d50d3bba",
   "metadata": {},
   "outputs": [
    {
     "name": "stdout",
     "output_type": "stream",
     "text": [
      "Number of nodes in the Decision Tree: 8059\n",
      "Number of rules (leaf nodes) in the Decision Tree: 4030\n"
     ]
    }
   ],
   "source": [
    "#1d Get the number of nodes\n",
    "n_nodes = tree_model.tree_.node_count\n",
    "\n",
    "# Get the number of rules (leaf nodes)\n",
    "# A node is a leaf node if its left and right children are both -1\n",
    "leaf_nodes = tree_model.tree_.children_left == tree_model.tree_.children_right\n",
    "n_rules = np.sum(leaf_nodes)\n",
    "\n",
    "print(f\"Number of nodes in the Decision Tree: {n_nodes}\")\n",
    "print(f\"Number of rules (leaf nodes) in the Decision Tree: {n_rules}\")"
   ]
  },
  {
   "cell_type": "code",
   "execution_count": 12,
   "id": "16f016fc-1d8f-4a9a-9826-a06c6931fb78",
   "metadata": {},
   "outputs": [
    {
     "name": "stdout",
     "output_type": "stream",
     "text": [
      "Top 5 most important variables in building the tree:\n",
      "VehBCost                 0.089698\n",
      "MMRCurrentRetailRatio    0.083030\n",
      "PurchaseTimestamp        0.074180\n",
      "VehOdo                   0.069556\n",
      "WarrantyCost             0.045952\n",
      "dtype: float64\n"
     ]
    }
   ],
   "source": [
    "#1fGet the feature importances\n",
    "importances = tree_model.feature_importances_\n",
    "\n",
    "# Create a pandas Series for easier sorting\n",
    "feature_importances = pd.Series(importances, index=feature_names)\n",
    "\n",
    "# Get the top 5 most important features\n",
    "top_5_features = feature_importances.nlargest(5)\n",
    "\n",
    "print(\"Top 5 most important variables in building the tree:\")\n",
    "print(top_5_features)"
   ]
  },
  {
   "cell_type": "code",
   "execution_count": 13,
   "id": "f0822d9f-9e8f-4b4b-9d12-b3669dbd1207",
   "metadata": {},
   "outputs": [
    {
     "name": "stdout",
     "output_type": "stream",
     "text": [
      "Training Accuracy: 0.9998\n",
      "Test Accuracy: 0.7901\n",
      "\n",
      "Evidence of potential overfitting: Training accuracy is significantly higher than test accuracy.\n"
     ]
    }
   ],
   "source": [
    "#1g\n",
    "print(f\"Training Accuracy: {train_acc:.4f}\")\n",
    "print(f\"Test Accuracy: {test_acc:.4f}\")\n",
    "overfitting_threshold = 0.10  # You can adjust this threshold\n",
    "\n",
    "if (train_acc - test_acc) > overfitting_threshold:\n",
    "    print(\"\\nEvidence of potential overfitting: Training accuracy is significantly higher than test accuracy.\")\n",
    "else:\n",
    "    print(\"\\nNo strong evidence of overfitting based on the difference between training and test accuracy (within the set threshold).\")"
   ]
  },
  {
   "cell_type": "code",
   "execution_count": 14,
   "id": "afc9922a-0fff-4d4d-b7e6-b9093ea500bd",
   "metadata": {},
   "outputs": [
    {
     "name": "stdout",
     "output_type": "stream",
     "text": [
      "Performing Grid Search...\n",
      "Grid Search complete.\n",
      "\n",
      "Optimal parameters found by GridSearchCV:\n",
      "{'classifier__criterion': 'gini', 'classifier__max_depth': 10, 'classifier__min_samples_leaf': 1, 'classifier__min_samples_split': 20}\n"
     ]
    }
   ],
   "source": [
    "#2a\n",
    "param_grid = {\n",
    "    'classifier__max_depth': [None, 10, 20, 30],\n",
    "    'classifier__min_samples_split': [2, 10, 20],\n",
    "    'classifier__min_samples_leaf': [1, 5, 10],\n",
    "    'classifier__criterion': ['gini', 'entropy']\n",
    "}\n",
    "\n",
    "# Instantiate GridSearchCV\n",
    "# cv=5 means 5-fold cross-validation\n",
    "grid_search = GridSearchCV(dt_pipeline, param_grid, cv=5, scoring='accuracy', n_jobs=-1)\n",
    "\n",
    "# Fit GridSearchCV to the training data\n",
    "print(\"Performing Grid Search...\")\n",
    "grid_search.fit(X_train, y_train)\n",
    "\n",
    "print(\"Grid Search complete.\")\n",
    "\n",
    "# Get the best parameters\n",
    "best_params = grid_search.best_params_\n",
    "print(\"\\nOptimal parameters found by GridSearchCV:\")\n",
    "print(best_params)\n",
    "\n",
    "# Get the best performing model\n",
    "best_dt_model = grid_search.best_estimator_"
   ]
  },
  {
   "cell_type": "code",
   "execution_count": 15,
   "id": "6d29ad80-9188-470c-bda1-cf16724a3384",
   "metadata": {},
   "outputs": [
    {
     "name": "stdout",
     "output_type": "stream",
     "text": [
      "Training Accuracy: 0.8873\n",
      "Test Accuracy: 0.8558\n"
     ]
    }
   ],
   "source": [
    "#2b\n",
    "from sklearn.metrics import accuracy_score\n",
    "\n",
    "# Predict on the training data\n",
    "y_train_pred = grid_search.predict(X_train)\n",
    "\n",
    "# Calculate training accuracy\n",
    "train_acc_ = accuracy_score(y_train, y_train_pred)\n",
    "print(f\"Training Accuracy: {train_acc_:.4f}\")\n",
    "\n",
    "# Predict on the test data\n",
    "y_test_pred = grid_search.predict(X_test)\n",
    "\n",
    "# Calculate test accuracy\n",
    "test_acc_ = accuracy_score(y_test, y_test_pred)\n",
    "print(f\"Test Accuracy: {test_acc_:.4f}\")"
   ]
  },
  {
   "cell_type": "code",
   "execution_count": 16,
   "id": "87c95515-76ba-4d9c-9ac5-7134582d1e27",
   "metadata": {},
   "outputs": [
    {
     "name": "stdout",
     "output_type": "stream",
     "text": [
      "Number of nodes in the Decision Tree: 711\n",
      "Number of rules (leaf nodes) in the Decision Tree: 356\n"
     ]
    }
   ],
   "source": [
    "#2c\n",
    "# Access the classifier and preprocessor inside the pipeline\n",
    "tree_model_   = best_dt_model.named_steps['classifier']\n",
    "preprocessor_ = best_dt_model.named_steps['preprocessor']\n",
    "\n",
    "# Get feature names after preprocessing\n",
    "try:\n",
    "    feature_names = preprocessor_.get_feature_names_out()\n",
    "except Exception:\n",
    "    # fallback if get_feature_names_out not available\n",
    "    num_names = preprocessor.transformers_[0][2]  # numeric features\n",
    "    cat_enc   = preprocessor.named_transformers_['cat'].named_steps['onehot']\n",
    "    cat_names = list(cat_enc.get_feature_names_out(preprocessor.transformers_[1][2]))\n",
    "    feature_names = np.array(num_names + cat_names)\n",
    "\n",
    "# Tree stats\n",
    "n_nodes = tree_model_.tree_.node_count\n",
    "leaf_nodes = tree_model_.tree_.children_left == tree_model_.tree_.children_right\n",
    "n_rules = np.sum(leaf_nodes)\n",
    "\n",
    "print(f\"Number of nodes in the Decision Tree: {n_nodes}\")\n",
    "print(f\"Number of rules (leaf nodes) in the Decision Tree: {n_rules}\")\n"
   ]
  },
  {
   "cell_type": "code",
   "execution_count": 17,
   "id": "ef36e42a-023a-4cdc-87f2-3fa4daeb6145",
   "metadata": {},
   "outputs": [
    {
     "name": "stdout",
     "output_type": "stream",
     "text": [
      "The variable used for the first split is: VehYear\n",
      "\n",
      "Variables used for splits at the second level:\n",
      "- Node 1: VehBCost\n",
      "- Node 376: WheelType_Alloy\n"
     ]
    }
   ],
   "source": [
    "#2d\n",
    "first_split_feature_index = tree_model_.tree_.feature[0]\n",
    "first_split_feature_name = feature_names[first_split_feature_index]\n",
    "\n",
    "print(f\"The variable used for the first split is: {first_split_feature_name}\")\n",
    "print(\"\\nVariables used for splits at the second level:\")\n",
    "\n",
    "# Get the children of the root node (nodes at the second level)\n",
    "root_node_left_child = tree_model_.tree_.children_left[0]\n",
    "root_node_right_child = tree_model_.tree_.children_right[0]\n",
    "\n",
    "second_level_nodes = []\n",
    "if root_node_left_child != -1:\n",
    "    second_level_nodes.append(root_node_left_child)\n",
    "if root_node_right_child != -1:\n",
    "    second_level_nodes.append(root_node_right_child)\n",
    "\n",
    "\n",
    "for node_index in second_level_nodes:\n",
    "    # Check if the node is a split node (not a leaf node)\n",
    "    if tree_model_.tree_.children_left[node_index] != -1 or tree_model_.tree_.children_right[node_index] != -1:\n",
    "        feature_index = tree_model_.tree_.feature[node_index]\n",
    "        feature_name = feature_names[feature_index]\n",
    "        print(f\"- Node {node_index}: {feature_name}\")\n",
    "    else:\n",
    "        print(f\"- Node {node_index}: (This is a leaf node, no split)\")"
   ]
  },
  {
   "cell_type": "code",
   "execution_count": 18,
   "id": "1f7053ab-a9b2-4eb6-a19b-b2de4b1b837c",
   "metadata": {},
   "outputs": [
    {
     "name": "stdout",
     "output_type": "stream",
     "text": [
      "Top 5 most important variables in building the tree:\n",
      "VehBCost                 0.133919\n",
      "VehYear                  0.113611\n",
      "PurchaseTimestamp        0.078293\n",
      "VehOdo                   0.076172\n",
      "MMRCurrentRetailRatio    0.061159\n",
      "dtype: float64\n"
     ]
    }
   ],
   "source": [
    "#2eGet the feature importances\n",
    "importances = tree_model_.feature_importances_\n",
    "\n",
    "# Create a pandas Series for easier sorting\n",
    "feature_importances = pd.Series(importances, index=feature_names)\n",
    "\n",
    "# Get the top 5 most important features\n",
    "top_5_features = feature_importances.nlargest(5)\n",
    "\n",
    "print(\"Top 5 most important variables in building the tree:\")\n",
    "print(top_5_features)"
   ]
  },
  {
   "cell_type": "code",
   "execution_count": 19,
   "id": "70297a26-623e-4a5b-a1a8-2fc80127cf71",
   "metadata": {},
   "outputs": [
    {
     "name": "stdout",
     "output_type": "stream",
     "text": [
      "Training Accuracy: 0.8873\n",
      "Test Accuracy: 0.8558\n",
      "\n",
      "No strong evidence of overfitting based on the difference between training and test accuracy (within the set threshold).\n"
     ]
    }
   ],
   "source": [
    "#2f\n",
    "print(f\"Training Accuracy: {train_acc_:.4f}\")\n",
    "print(f\"Test Accuracy: {test_acc_:.4f}\")\n",
    "overfitting_threshold = 0.10  # You can adjust this threshold\n",
    "\n",
    "if (train_acc_ - test_acc_) > overfitting_threshold:\n",
    "    print(\"\\nEvidence of potential overfitting: Training accuracy is significantly higher than test accuracy.\")\n",
    "else:\n",
    "    print(\"\\nNo strong evidence of overfitting based on the difference between training and test accuracy (within the set threshold).\")"
   ]
  },
  {
   "cell_type": "code",
   "execution_count": 20,
   "id": "a032e6d1-83c9-4918-869d-81f2d206b030",
   "metadata": {},
   "outputs": [
    {
     "name": "stdout",
     "output_type": "stream",
     "text": [
      "Default DT AUC: 0.5570\n",
      "GridSearchCV DT AUC: 0.6600\n"
     ]
    },
    {
     "data": {
      "image/png": "[encoded data removed]",
      "text/plain": [
       "<Figure size 800x600 with 1 Axes>"
      ]
     },
     "metadata": {},
     "output_type": "display_data"
    }
   ],
   "source": [
    "#3\n",
    "from sklearn.metrics import roc_curve, roc_auc_score\n",
    "# Probabilities for ROC curve\n",
    "y_test_proba_default = dt_pipeline.predict_proba(X_test)[:, 1]\n",
    "y_test_proba_grid = best_dt_model.predict_proba(X_test)[:, 1]\n",
    "\n",
    "# Compute ROC curves and AUC\n",
    "fpr_default, tpr_default, _ = roc_curve(y_test, y_test_proba_default)\n",
    "auc_default = roc_auc_score(y_test, y_test_proba_default)\n",
    "\n",
    "fpr_grid, tpr_grid, _ = roc_curve(y_test, y_test_proba_grid)\n",
    "auc_grid = roc_auc_score(y_test, y_test_proba_grid)\n",
    "\n",
    "print(f\"Default DT AUC: {auc_default:.4f}\")\n",
    "print(f\"GridSearchCV DT AUC: {auc_grid:.4f}\")\n",
    "\n",
    "# Plot ROC curves\n",
    "plt.figure(figsize=(8,6))\n",
    "plt.plot(fpr_default, tpr_default, label=f\"Default DT (AUC = {auc_default:.3f})\")\n",
    "plt.plot(fpr_grid, tpr_grid, label=f\"GridSearchCV DT (AUC = {auc_grid:.3f})\")\n",
    "plt.plot([0,1], [0,1], 'k--')  # baseline\n",
    "plt.xlabel(\"False Positive Rate\")\n",
    "plt.ylabel(\"True Positive Rate\")\n",
    "plt.title(\"ROC Curve Comparison: Default vs GridSearchCV Decision Tree\")\n",
    "plt.legend(loc=\"lower right\")\n",
    "plt.show()\n"
   ]
  },
  {
   "cell_type": "code",
   "execution_count": 21,
   "id": "11514239-d2ed-4898-b7a4-686e2690f48a",
   "metadata": {},
   "outputs": [
    {
     "name": "stdout",
     "output_type": "stream",
     "text": [
      "Top features that contribute to predicting 'kicks':\n",
      "VehBCost                            0.133919\n",
      "VehYear                             0.113611\n",
      "PurchaseTimestamp                   0.078293\n",
      "VehOdo                              0.076172\n",
      "MMRCurrentRetailRatio               0.061159\n",
      "WheelType_Alloy                     0.053961\n",
      "MMRAcquisitionAuctionCleanPrice     0.044608\n",
      "MMRAcquisitionRetailAveragePrice    0.039302\n",
      "WarrantyCost                        0.038935\n",
      "MMRAcquisitonRetailCleanPrice       0.030299\n",
      "dtype: float64\n"
     ]
    }
   ],
   "source": [
    "#4\n",
    "# Get the classifier and preprocessor from the tuned pipeline\n",
    "tree_model_best = best_dt_model.named_steps['classifier']\n",
    "preprocessor_best = best_dt_model.named_steps['preprocessor']\n",
    "\n",
    "# Get feature names after preprocessing\n",
    "try:\n",
    "    feature_names = preprocessor_best.get_feature_names_out()\n",
    "except Exception:\n",
    "    num_names = preprocessor_best.transformers_[0][2]\n",
    "    cat_enc   = preprocessor_best.named_transformers_['cat'].named_steps['onehot']\n",
    "    cat_names = list(cat_enc.get_feature_names_out(preprocessor_best.transformers_[1][2]))\n",
    "    feature_names = np.array(num_names + cat_names)\n",
    "\n",
    "# Get top 10 most important features\n",
    "importances = tree_model_best.feature_importances_\n",
    "feature_importances = pd.Series(importances, index=feature_names)\n",
    "top_features = feature_importances.nlargest(10)\n",
    "\n",
    "print(\"Top features that contribute to predicting 'kicks':\")\n",
    "print(top_features)\n"
   ]
  },
  {
   "cell_type": "markdown",
   "id": "3aa172e6-0b3f-4866-aaba-9d3360b4d853",
   "metadata": {},
   "source": [
    "## Task 3"
   ]
  },
  {
   "cell_type": "code",
   "execution_count": 22,
   "id": "d24b1068-6b8f-4128-a6be-6720ce47764e",
   "metadata": {},
   "outputs": [],
   "source": [
    "# Reuse from Task 1: preprocess, X_train, X_test, y_train, y_test\n",
    "import numpy as np, pandas as pd, matplotlib.pyplot as plt\n",
    "\n",
    "from sklearn.pipeline import Pipeline\n",
    "from sklearn.linear_model import LogisticRegression\n",
    "from sklearn.model_selection import GridSearchCV\n",
    "from sklearn.metrics import accuracy_score, roc_curve, auc, classification_report, confusion_matrix\n",
    "from sklearn.feature_selection import RFE\n",
    "\n",
    "# Fixed `RANDOM_STATE` for repeatable results.\n",
    "RANDOM_STATE = 42"
   ]
  },
  {
   "cell_type": "code",
   "execution_count": 23,
   "id": "5e5a1d7d-8ec2-4b92-a364-a724cdeca625",
   "metadata": {},
   "outputs": [
    {
     "name": "stdout",
     "output_type": "stream",
     "text": [
      "Best params: {'clf__C': 0.01, 'clf__penalty': 'l2', 'clf__solver': 'saga'}\n",
      "Train acc: 0.8707655213984328\n",
      "Test  acc: 0.8706605593056895\n",
      "\n",
      "Confusion matrix:\n",
      " [[7221    1]\n",
      " [1072    2]]\n",
      "\n",
      "Report:\n",
      "               precision    recall  f1-score   support\n",
      "\n",
      "           0       0.87      1.00      0.93      7222\n",
      "           1       0.67      0.00      0.00      1074\n",
      "\n",
      "    accuracy                           0.87      8296\n",
      "   macro avg       0.77      0.50      0.47      8296\n",
      "weighted avg       0.84      0.87      0.81      8296\n",
      "\n"
     ]
    },
    {
     "data": {
      "text/html": [
       "<div>\n",
       "<style scoped>\n",
       "    .dataframe tbody tr th:only-of-type {\n",
       "        vertical-align: middle;\n",
       "    }\n",
       "\n",
       "    .dataframe tbody tr th {\n",
       "        vertical-align: top;\n",
       "    }\n",
       "\n",
       "    .dataframe thead th {\n",
       "        text-align: right;\n",
       "    }\n",
       "</style>\n",
       "<table border=\"1\" class=\"dataframe\">\n",
       "  <thead>\n",
       "    <tr style=\"text-align: right;\">\n",
       "      <th></th>\n",
       "      <th>Feature</th>\n",
       "      <th>Coef</th>\n",
       "      <th>Abs</th>\n",
       "    </tr>\n",
       "  </thead>\n",
       "  <tbody>\n",
       "    <tr>\n",
       "      <th>13</th>\n",
       "      <td>VehBCost</td>\n",
       "      <td>-0.311732</td>\n",
       "      <td>0.311732</td>\n",
       "    </tr>\n",
       "    <tr>\n",
       "      <th>1</th>\n",
       "      <td>VehYear</td>\n",
       "      <td>-0.309670</td>\n",
       "      <td>0.309670</td>\n",
       "    </tr>\n",
       "    <tr>\n",
       "      <th>8</th>\n",
       "      <td>MMRCurrentAuctionAveragePrice</td>\n",
       "      <td>0.270037</td>\n",
       "      <td>0.270037</td>\n",
       "    </tr>\n",
       "    <tr>\n",
       "      <th>11</th>\n",
       "      <td>MMRCurrentRetailCleanPrice</td>\n",
       "      <td>-0.268263</td>\n",
       "      <td>0.268263</td>\n",
       "    </tr>\n",
       "    <tr>\n",
       "      <th>129</th>\n",
       "      <td>WheelType_Covers</td>\n",
       "      <td>-0.261478</td>\n",
       "      <td>0.261478</td>\n",
       "    </tr>\n",
       "  </tbody>\n",
       "</table>\n",
       "</div>"
      ],
      "text/plain": [
       "                           Feature      Coef       Abs\n",
       "13                        VehBCost -0.311732  0.311732\n",
       "1                          VehYear -0.309670  0.309670\n",
       "8    MMRCurrentAuctionAveragePrice  0.270037  0.270037\n",
       "11      MMRCurrentRetailCleanPrice -0.268263  0.268263\n",
       "129               WheelType_Covers -0.261478  0.261478"
      ]
     },
     "metadata": {},
     "output_type": "display_data"
    },
    {
     "data": {
      "text/plain": [
       "[<matplotlib.lines.Line2D at 0x219e914a630>]"
      ]
     },
     "execution_count": 23,
     "metadata": {},
     "output_type": "execute_result"
    }
   ],
   "source": [
    "# Reusing Task-1 preprocessing in a single end-to-end pipeline\n",
    "pipe_full = Pipeline([\n",
    "    (\"prep\", preprocess),\n",
    "    (\"clf\", LogisticRegression(max_iter=1000, random_state=RANDOM_STATE))\n",
    "])\n",
    "\n",
    "# Hyperparameter tuning: regularisation type & strength\n",
    "# L1/L2 regularisations control sparsity vs ridge-style shrinkage\n",
    "# Liblinear/saga support L1\n",
    "param_grid_full = {\n",
    "    \"clf__penalty\": [\"l1\", \"l2\"],\n",
    "    \"clf__C\": [0.01, 0.1, 1, 10],\n",
    "    \"clf__solver\": [\"liblinear\", \"saga\"],\n",
    "}\n",
    "\n",
    "# 5-fold CV tuned for accuracy\n",
    "grid_full = GridSearchCV(pipe_full, param_grid_full, cv=5, scoring=\"accuracy\", n_jobs=-1)\n",
    "grid_full.fit(X_train, y_train)\n",
    "\n",
    "# Predictions\n",
    "ytr_pred_full = grid_full.predict(X_train)\n",
    "yte_pred_full = grid_full.predict(X_test)\n",
    "\n",
    "print(\"Best params:\", grid_full.best_params_)\n",
    "print(\"Train acc:\", accuracy_score(y_train, ytr_pred_full))\n",
    "print(\"Test  acc:\", accuracy_score(y_test, yte_pred_full))\n",
    "print(\"\\nConfusion matrix:\\n\", confusion_matrix(y_test, yte_pred_full))\n",
    "print(\"\\nReport:\\n\", classification_report(y_test, yte_pred_full))\n",
    "\n",
    "# Top 5 features\n",
    "best_full = grid_full.best_estimator_\n",
    "feat_names = best_full.named_steps[\"prep\"].get_feature_names_out()\n",
    "coefs = best_full.named_steps[\"clf\"].coef_[0]\n",
    "top5 = pd.DataFrame({\"Feature\": feat_names, \"Coef\": coefs, \"Abs\": np.abs(coefs)}).sort_values(\"Abs\", ascending=False).head(5)\n",
    "display(top5)\n",
    "\n",
    "# Using predicted probabilities to compute ROC/AUC\n",
    "yprob_full = best_full.predict_proba(X_test)[:,1]\n",
    "fpr_full, tpr_full, _ = roc_curve(y_test, yprob_full)\n",
    "auc_full = auc(fpr_full, tpr_full)\n",
    "plt.plot(fpr_full, tpr_full, label=f\"Full (AUC={auc_full:.3f})\")"
   ]
  },
  {
   "cell_type": "code",
   "execution_count": 24,
   "id": "37e989af-038d-42df-8d5a-0f4577868eb3",
   "metadata": {},
   "outputs": [
    {
     "name": "stdout",
     "output_type": "stream",
     "text": [
      "Best params (RFE): {'clf__C': 0.01, 'clf__penalty': 'l2', 'clf__solver': 'liblinear', 'rfe__n_features_to_select': 80}\n",
      "Train acc: 0.8706449668474985\n",
      "Test  acc: 0.8707810993249759\n"
     ]
    },
    {
     "data": {
      "image/png": "[encoded data removed]",
      "text/plain": [
       "<Figure size 640x480 with 1 Axes>"
      ]
     },
     "metadata": {},
     "output_type": "display_data"
    },
    {
     "name": "stdout",
     "output_type": "stream",
     "text": [
      "Overfitting gap (Full): 0.00010496209274324375\n",
      "Overfitting gap (RFE): -0.0001361324774774575\n"
     ]
    }
   ],
   "source": [
    "# Base estimator is used by RFE to score feature usefulness\n",
    "base_lr = LogisticRegression(max_iter=1000, random_state=RANDOM_STATE, solver=\"liblinear\", penalty=\"l2\")\n",
    "\n",
    "pipe_rfe = Pipeline([\n",
    "    (\"prep\", preprocess),\n",
    "    (\"rfe\", RFE(base_lr, n_features_to_select=50, step=0.1)),\n",
    "    (\"clf\", LogisticRegression(max_iter=1000, random_state=RANDOM_STATE))\n",
    "])\n",
    "\n",
    "# Hyperparameters to tune:\n",
    "# How many features RFE should keep\n",
    "# Logistic penalty type & regularisation strength (C)\n",
    "# Compatible solvers\n",
    "param_grid_rfe = {\n",
    "    \"rfe__n_features_to_select\": [30, 50, 80],\n",
    "    \"clf__penalty\": [\"l1\", \"l2\"],\n",
    "    \"clf__C\": [0.01, 0.1, 1, 10],\n",
    "    \"clf__solver\": [\"liblinear\", \"saga\"],\n",
    "}\n",
    "\n",
    "# 5-fold CV tuned for accuracy\n",
    "grid_rfe = GridSearchCV(pipe_rfe, param_grid_rfe, cv=5, scoring=\"accuracy\", n_jobs=-1)\n",
    "grid_rfe.fit(X_train, y_train)\n",
    "\n",
    "# Predictions\n",
    "ytr_pred_rfe = grid_rfe.predict(X_train)\n",
    "yte_pred_rfe = grid_rfe.predict(X_test)\n",
    "\n",
    "print(\"Best params (RFE):\", grid_rfe.best_params_)\n",
    "print(\"Train acc:\", accuracy_score(y_train, ytr_pred_rfe))\n",
    "print(\"Test  acc:\", accuracy_score(y_test, yte_pred_rfe))\n",
    "\n",
    "# Plotting the ROC curve\n",
    "best_rfe = grid_rfe.best_estimator_\n",
    "yprob_rfe = best_rfe.predict_proba(X_test)[:,1]\n",
    "fpr_rfe, tpr_rfe, _ = roc_curve(y_test, yprob_rfe)\n",
    "auc_rfe = auc(fpr_rfe, tpr_rfe)\n",
    "plt.plot(fpr_rfe, tpr_rfe, label=f\"RFE (AUC={auc_rfe:.3f})\")\n",
    "\n",
    "# Plotting the diagonal reference and finalising the ROC figure\n",
    "plt.plot([0,1],[0,1],\"--\")\n",
    "plt.legend(); plt.xlabel(\"FPR\"); plt.ylabel(\"TPR\"); plt.title(\"ROC Curves Logistic Regression\"); plt.show()\n",
    "\n",
    "# Checking overfitting (comparing train vs test accuracy gaps)\n",
    "gap_full = accuracy_score(y_train, ytr_pred_full) - accuracy_score(y_test, yte_pred_full)\n",
    "gap_rfe  = accuracy_score(y_train, ytr_pred_rfe) - accuracy_score(y_test, yte_pred_rfe)\n",
    "print(\"Overfitting gap (Full):\", gap_full)\n",
    "print(\"Overfitting gap (RFE):\", gap_rfe)"
   ]
  },
  {
   "cell_type": "code",
   "execution_count": 25,
   "id": "656150c5-6021-4ae1-ae49-7cfef8a8c70b",
   "metadata": {},
   "outputs": [
    {
     "name": "stdout",
     "output_type": "stream",
     "text": [
      "RFE features: 80, coefficients: 80\n",
      "Top contributors from RFE\n"
     ]
    },
    {
     "data": {
      "text/html": [
       "<div>\n",
       "<style scoped>\n",
       "    .dataframe tbody tr th:only-of-type {\n",
       "        vertical-align: middle;\n",
       "    }\n",
       "\n",
       "    .dataframe tbody tr th {\n",
       "        vertical-align: top;\n",
       "    }\n",
       "\n",
       "    .dataframe thead th {\n",
       "        text-align: right;\n",
       "    }\n",
       "</style>\n",
       "<table border=\"1\" class=\"dataframe\">\n",
       "  <thead>\n",
       "    <tr style=\"text-align: right;\">\n",
       "      <th></th>\n",
       "      <th>Feature</th>\n",
       "      <th>Coef</th>\n",
       "      <th>Abs</th>\n",
       "    </tr>\n",
       "  </thead>\n",
       "  <tbody>\n",
       "    <tr>\n",
       "      <th>78</th>\n",
       "      <td>WheelType_Covers</td>\n",
       "      <td>-0.523426</td>\n",
       "      <td>0.523426</td>\n",
       "    </tr>\n",
       "    <tr>\n",
       "      <th>44</th>\n",
       "      <td>PRIMEUNIT_NO</td>\n",
       "      <td>-0.429324</td>\n",
       "      <td>0.429324</td>\n",
       "    </tr>\n",
       "    <tr>\n",
       "      <th>14</th>\n",
       "      <td>Auction_MANHEIM</td>\n",
       "      <td>-0.371071</td>\n",
       "      <td>0.371071</td>\n",
       "    </tr>\n",
       "    <tr>\n",
       "      <th>12</th>\n",
       "      <td>AUCGUART_GREEN</td>\n",
       "      <td>-0.350971</td>\n",
       "      <td>0.350971</td>\n",
       "    </tr>\n",
       "    <tr>\n",
       "      <th>11</th>\n",
       "      <td>VehBCost</td>\n",
       "      <td>-0.347416</td>\n",
       "      <td>0.347416</td>\n",
       "    </tr>\n",
       "    <tr>\n",
       "      <th>1</th>\n",
       "      <td>VehYear</td>\n",
       "      <td>-0.330539</td>\n",
       "      <td>0.330539</td>\n",
       "    </tr>\n",
       "    <tr>\n",
       "      <th>6</th>\n",
       "      <td>MMRCurrentAuctionAveragePrice</td>\n",
       "      <td>0.271296</td>\n",
       "      <td>0.271296</td>\n",
       "    </tr>\n",
       "    <tr>\n",
       "      <th>9</th>\n",
       "      <td>MMRCurrentRetailCleanPrice</td>\n",
       "      <td>-0.267489</td>\n",
       "      <td>0.267489</td>\n",
       "    </tr>\n",
       "    <tr>\n",
       "      <th>55</th>\n",
       "      <td>TopThreeAmericanName_GM</td>\n",
       "      <td>-0.262314</td>\n",
       "      <td>0.262314</td>\n",
       "    </tr>\n",
       "    <tr>\n",
       "      <th>43</th>\n",
       "      <td>Nationality_AMERICAN</td>\n",
       "      <td>-0.237329</td>\n",
       "      <td>0.237329</td>\n",
       "    </tr>\n",
       "  </tbody>\n",
       "</table>\n",
       "</div>"
      ],
      "text/plain": [
       "                          Feature      Coef       Abs\n",
       "78               WheelType_Covers -0.523426  0.523426\n",
       "44                   PRIMEUNIT_NO -0.429324  0.429324\n",
       "14                Auction_MANHEIM -0.371071  0.371071\n",
       "12                 AUCGUART_GREEN -0.350971  0.350971\n",
       "11                       VehBCost -0.347416  0.347416\n",
       "1                         VehYear -0.330539  0.330539\n",
       "6   MMRCurrentAuctionAveragePrice  0.271296  0.271296\n",
       "9      MMRCurrentRetailCleanPrice -0.267489  0.267489\n",
       "55        TopThreeAmericanName_GM -0.262314  0.262314\n",
       "43           Nationality_AMERICAN -0.237329  0.237329"
      ]
     },
     "metadata": {},
     "output_type": "display_data"
    },
    {
     "name": "stdout",
     "output_type": "stream",
     "text": [
      "Positive coef -> higher odds of IsBadBuy=1 (likely kick); Negative -> lower odds.\n",
      "Note: one-hot effects are relative to the baseline category.\n"
     ]
    }
   ],
   "source": [
    "# Selecting the better model by test accuracy\n",
    "# If RFE model tests are atleast as good as the Full model, we will prefer RFE for simplicity\n",
    "use_rfe = accuracy_score(y_test, yte_pred_rfe) >= accuracy_score(y_test, yte_pred_full)\n",
    "chosen = best_rfe if use_rfe else best_full\n",
    "model_name = \"RFE\" if use_rfe else \"Full\"\n",
    "\n",
    "# Getting the post processing feature names, if RFE is better we keep a subset\n",
    "feat_names_all = chosen.named_steps[\"prep\"].get_feature_names_out()\n",
    "if \"rfe\" in chosen.named_steps:\n",
    "    mask = chosen.named_steps[\"rfe\"].support_\n",
    "    feat_names = feat_names_all[mask]\n",
    "else:\n",
    "    feat_names = feat_names_all\n",
    "\n",
    "# Coefficients from the final LR\n",
    "coefs = chosen.named_steps[\"clf\"].coef_.ravel()\n",
    "print(f\"{model_name} features: {len(feat_names)}, coefficients: {len(coefs)}\")\n",
    "\n",
    "coef_df = (pd.DataFrame({\"Feature\": feat_names, \"Coef\": coefs})\n",
    "             .assign(Abs=lambda d: d[\"Coef\"].abs())\n",
    "             .sort_values(\"Abs\", ascending=False))\n",
    "top10 = coef_df.head(10)\n",
    "\n",
    "print(\"Top contributors from\", model_name)\n",
    "display(top10)\n",
    "\n",
    "# Positive coef means higher odds of IsBadBuy=1, negative coef means lower odds\n",
    "print(\"Positive coef -> higher odds of IsBadBuy=1 (likely kick); Negative -> lower odds.\")\n",
    "print(\"Note: one-hot effects are relative to the baseline category.\")"
   ]
  },
  {
   "cell_type": "markdown",
   "id": "0d478007-8df9-44a1-9b09-ed96e6958b98",
   "metadata": {},
   "source": [
    "## Task 4"
   ]
  },
  {
   "cell_type": "code",
   "execution_count": 26,
   "id": "11ae9454-902d-4ba6-9a2f-74f100360970",
   "metadata": {},
   "outputs": [
    {
     "name": "stdout",
     "output_type": "stream",
     "text": [
      "[Task4 bootstrap] Fitted preprocess and tuned DecisionTree on preprocessed matrix.\n"
     ]
    }
   ],
   "source": [
    "# === Task 4 BOOTSTRAP ===\n",
    "# Fix mixed-type categorical issues and avoid running OneHot inside the DT grid.\n",
    "\n",
    "import os, glob, numpy as np, pandas as pd\n",
    "from sklearn.model_selection import train_test_split, GridSearchCV, StratifiedKFold\n",
    "from sklearn.compose import ColumnTransformer\n",
    "from sklearn.preprocessing import OneHotEncoder, StandardScaler, FunctionTransformer\n",
    "from sklearn.impute import SimpleImputer\n",
    "from sklearn.pipeline import Pipeline\n",
    "from sklearn.tree import DecisionTreeClassifier\n",
    "\n",
    "# Defaults\n",
    "if \"RANDOM_STATE\" not in globals(): RANDOM_STATE = 42\n",
    "if \"TARGET_COL\"   not in globals(): TARGET_COL   = \"IsBadBuy\"\n",
    "\n",
    "# 1) Load df if missing\n",
    "def _find_csv():\n",
    "    for p in [\"data/kick.csv\", \"kick.csv\", \"assignment 1 data kick.csv\"]:\n",
    "        if os.path.isfile(p): return p\n",
    "    for p in glob.glob(\"**/*.csv\", recursive=True):\n",
    "        if \"kick\" in os.path.basename(p).lower(): return p\n",
    "    return None\n",
    "\n",
    "if \"df\" not in globals():\n",
    "    path = _find_csv()\n",
    "    if not path:\n",
    "        raise FileNotFoundError(\"kick.csv not found. Put it in ./data/ or next to the notebook.\")\n",
    "    # Avoid dtype fragmentation warnings\n",
    "    df = pd.read_csv(path, low_memory=False)\n",
    "    # Turn '?' into NaN\n",
    "    df.replace(\"?\", np.nan, inplace=True)\n",
    "    # Promote numeric-like object columns to numeric (simple heuristic)\n",
    "    for c in df.columns:\n",
    "        if c == TARGET_COL:\n",
    "            continue\n",
    "        if df[c].dtype == \"object\":\n",
    "            s = pd.to_numeric(df[c], errors=\"coerce\")\n",
    "            if s.notna().mean() > 0.6:  # majority numeric -> treat as numeric\n",
    "                df[c] = s\n",
    "\n",
    "# 2) Train/test split if missing\n",
    "if not all(v in globals() for v in [\"X_train\",\"X_test\",\"y_train\",\"y_test\"]):\n",
    "    drop_cols = [c for c in [\"PurchaseID\",\"PurchaseDate\"] if c in df.columns]\n",
    "    y = df[TARGET_COL]\n",
    "    X = df.drop(columns=[TARGET_COL] + drop_cols)\n",
    "    X_train, X_test, y_train, y_test = train_test_split(\n",
    "        X, y, test_size=0.2, random_state=RANDOM_STATE, stratify=y\n",
    "    )\n",
    "\n",
    "# 3) Preprocess pipeline (categorical forced to string AFTER impute)\n",
    "if \"preprocess\" not in globals():\n",
    "    num_feat = X_train.select_dtypes(include=[np.number]).columns.tolist()\n",
    "    cat_feat = X_train.columns.difference(num_feat).tolist()\n",
    "\n",
    "    numeric = Pipeline([\n",
    "        (\"imputer\", SimpleImputer(strategy=\"median\")),\n",
    "        (\"scaler\", StandardScaler())\n",
    "    ])\n",
    "    categorical = Pipeline([\n",
    "        (\"imputer\", SimpleImputer(strategy=\"most_frequent\")),\n",
    "        (\"to_str\", FunctionTransformer(lambda X: X.astype(object).astype(str))),\n",
    "        (\"onehot\", OneHotEncoder(handle_unknown=\"ignore\", sparse_output=False))\n",
    "    ])\n",
    "    preprocess = ColumnTransformer(\n",
    "        [(\"num\", numeric, num_feat),\n",
    "         (\"cat\", categorical, cat_feat)],\n",
    "        remainder=\"drop\",\n",
    "        verbose_feature_names_out=False\n",
    "    )\n",
    "\n",
    "# 4) Fit preprocess ONCE and grid-search DT on the preprocessed matrix (no OneHot inside the grid)\n",
    "if \"dt_best\" not in globals():\n",
    "    # Fit preprocessor on train and transform to numeric matrix\n",
    "    prep_fitted = preprocess.fit(X_train, y_train)\n",
    "    Xtr = prep_fitted.transform(X_train)\n",
    "    # Ensure dense\n",
    "    if hasattr(Xtr, \"toarray\"): Xtr = Xtr.toarray()\n",
    "\n",
    "    # Now search a Decision Tree directly on Xtr (pure numeric) -> avoids mixed-type encoder issues\n",
    "    cv = StratifiedKFold(n_splits=3, shuffle=True, random_state=RANDOM_STATE)\n",
    "    dt = DecisionTreeClassifier(random_state=RANDOM_STATE)\n",
    "    grid = {\n",
    "        \"criterion\": [\"gini\", \"entropy\"],\n",
    "        \"max_depth\": [3, 5, 7, None],\n",
    "        \"min_samples_split\": [2, 10, 50],\n",
    "        \"min_samples_leaf\": [1, 5, 25],\n",
    "    }\n",
    "    dt_search = GridSearchCV(dt, grid, scoring=\"roc_auc\", cv=cv, n_jobs=-1, refit=True)\n",
    "    dt_search.fit(Xtr, y_train)\n",
    "    best_dt = dt_search.best_estimator_\n",
    "\n",
    "    # Rebuild a Pipeline so that downstream code can use dt_best.named_steps[\"prep\"]/[\"clf\"]\n",
    "    dt_best = Pipeline([(\"prep\", prep_fitted), (\"clf\", best_dt)])\n",
    "    print(\"[Task4 bootstrap] Fitted preprocess and tuned DecisionTree on preprocessed matrix.\")\n",
    "else:\n",
    "    print(\"[Task4 bootstrap] Using existing dt_best / preprocess / split.\")\n"
   ]
  },
  {
   "cell_type": "markdown",
   "id": "324ff4ec-7254-4e45-b42f-ef9ad3c41369",
   "metadata": {},
   "source": [
    "**Task 4.1 — Additional processing for NN**\n",
    "\n",
    "- Numeric features are **standardized** (zero-mean / unit-variance) via `StandardScaler`.\n",
    "- Categorical features are **one-hot encoded** with `OneHotEncoder(handle_unknown=\"ignore\")`.\n",
    "- Missing values are handled by `SimpleImputer` (median for numeric, most_frequent for categorical).\n",
    "- These steps are already defined in our `preprocess` from Task 1 and applied *consistently* to train/test to avoid leakage.\n",
    "- Standardization is **important for NN** to stabilize gradients and speed up convergence.\n"
   ]
  },
  {
   "cell_type": "code",
   "execution_count": 27,
   "id": "8c7929b2-2c46-4436-8220-59173fe5c4ad",
   "metadata": {},
   "outputs": [
    {
     "name": "stdout",
     "output_type": "stream",
     "text": [
      "NN baseline (full) | Train=0.873 Test=0.871 AUC=0.708\n",
      "NN tuned (full) | Train=0.880 Test=0.870 AUC=0.700\n"
     ]
    },
    {
     "data": {
      "image/png": "[encoded data removed]",
      "text/plain": [
       "<Figure size 640x480 with 1 Axes>"
      ]
     },
     "metadata": {},
     "output_type": "display_data"
    },
    {
     "name": "stdout",
     "output_type": "stream",
     "text": [
      "NN baseline (reduced) | Train=0.871 Test=0.870 AUC=0.702\n",
      "NN tuned (reduced) | Train=0.871 Test=0.868 AUC=0.704\n"
     ]
    },
    {
     "data": {
      "image/png": "[encoded data removed]",
      "text/plain": [
       "<Figure size 640x480 with 1 Axes>"
      ]
     },
     "metadata": {},
     "output_type": "display_data"
    },
    {
     "data": {
      "image/png": "[encoded data removed]",
      "text/plain": [
       "<Figure size 640x480 with 1 Axes>"
      ]
     },
     "metadata": {},
     "output_type": "display_data"
    }
   ],
   "source": [
    "# === Task 4. Predictive Modeling Using Neural Networks ===\n",
    "\n",
    "from sklearn.neural_network import MLPClassifier\n",
    "from sklearn.model_selection import GridSearchCV, StratifiedKFold\n",
    "from sklearn.metrics import accuracy_score, roc_auc_score, roc_curve, auc\n",
    "import matplotlib.pyplot as plt\n",
    "import numpy as np\n",
    "\n",
    "# --- Set data for NN ---\n",
    "prep_for_nn = preprocess.fit(X_train, y_train)\n",
    "Xtr = prep_for_nn.transform(X_train)\n",
    "Xte = prep_for_nn.transform(X_test)\n",
    "if hasattr(Xtr, \"toarray\"): Xtr = Xtr.toarray()\n",
    "if hasattr(Xte, \"toarray\"): Xte = Xte.toarray()\n",
    "\n",
    "# helper: print acc + AUC\n",
    "def eval_nn(model, Xtr, ytr, Xte, yte, title=\"NN\"):\n",
    "    yhat_tr = model.predict(Xtr)\n",
    "    yhat_te = model.predict(Xte)\n",
    "    acc_tr = accuracy_score(ytr, yhat_tr)\n",
    "    acc_te = accuracy_score(yte, yhat_te)\n",
    "    proba_te = model.predict_proba(Xte)[:,1]\n",
    "    auc_te = roc_auc_score(yte, proba_te)\n",
    "    print(f\"{title} | Train={acc_tr:.3f} Test={acc_te:.3f} AUC={auc_te:.3f}\")\n",
    "    return acc_tr, acc_te, auc_te, proba_te\n",
    "\n",
    "# --- 4.2 NN Full Features ---\n",
    "nn_base = MLPClassifier(hidden_layer_sizes=(64,), activation=\"relu\",\n",
    "                        max_iter=300, early_stopping=True, random_state=RANDOM_STATE)\n",
    "nn_base.fit(Xtr, y_train)\n",
    "_,_,auc_b,proba_b = eval_nn(nn_base, Xtr, y_train, Xte, y_test, \"NN baseline (full)\")\n",
    "\n",
    "cv = StratifiedKFold(n_splits=3, shuffle=True, random_state=RANDOM_STATE)\n",
    "param_grid = {\n",
    "    \"hidden_layer_sizes\": [(64,), (128,), (64,32)],\n",
    "    \"activation\": [\"relu\",\"tanh\"],\n",
    "    \"alpha\": [1e-4, 1e-3]\n",
    "}\n",
    "nn_gs = GridSearchCV(MLPClassifier(max_iter=300, early_stopping=True, random_state=RANDOM_STATE),\n",
    "                     param_grid=param_grid, scoring=\"roc_auc\", cv=cv, n_jobs=-1)\n",
    "nn_gs.fit(Xtr, y_train)\n",
    "nn_full = nn_gs.best_estimator_\n",
    "_,_,auc_f,proba_f = eval_nn(nn_full, Xtr, y_train, Xte, y_test, \"NN tuned (full)\")\n",
    "\n",
    "# ROC: full features\n",
    "fpr_b,tpr_b,_ = roc_curve(y_test, proba_b)\n",
    "fpr_f,tpr_f,_ = roc_curve(y_test, proba_f)\n",
    "plt.figure()\n",
    "plt.plot(fpr_b,tpr_b,label=f\"Baseline AUC={auc_b:.3f}\")\n",
    "plt.plot(fpr_f,tpr_f,label=f\"Tuned AUC={auc_f:.3f}\")\n",
    "plt.plot([0,1],[0,1],\"k--\")\n",
    "plt.title(\"ROC — NN (full features)\")\n",
    "plt.xlabel(\"FPR\"); plt.ylabel(\"TPR\")\n",
    "plt.legend(); plt.show()\n",
    "\n",
    "# --- 4.3 NN Reduced Features ---\n",
    "# select top 20 features from DT\n",
    "dt_model = dt_best.named_steps[\"clf\"]\n",
    "ohe = preprocess.named_transformers_[\"cat\"].named_steps[\"onehot\"]\n",
    "num_cols = X_train.select_dtypes(include=[np.number]).columns.tolist()\n",
    "cat_cols = X_train.columns.difference(num_cols).tolist()\n",
    "feat_names = np.array(list(num_cols) + list(ohe.get_feature_names_out(cat_cols)))\n",
    "top_idx = np.argsort(dt_model.feature_importances_)[::-1][:20]\n",
    "\n",
    "Xtr_red = Xtr[:, top_idx]\n",
    "Xte_red = Xte[:, top_idx]\n",
    "\n",
    "# Baseline reduced NN\n",
    "nn_red_base = MLPClassifier(hidden_layer_sizes=(64,), activation=\"relu\",\n",
    "                            max_iter=300, early_stopping=True, random_state=RANDOM_STATE)\n",
    "nn_red_base.fit(Xtr_red, y_train)\n",
    "_,_,auc_rb,proba_rb = eval_nn(nn_red_base, Xtr_red, y_train, Xte_red, y_test, \"NN baseline (reduced)\")\n",
    "\n",
    "# Tuned reduced NN\n",
    "param_grid_red = {\n",
    "    \"hidden_layer_sizes\": [(64,), (64,32)],\n",
    "    \"activation\": [\"relu\",\"tanh\"],\n",
    "    \"alpha\": [1e-4, 1e-3]\n",
    "}\n",
    "nn_red_gs = GridSearchCV(MLPClassifier(max_iter=300, early_stopping=True, random_state=RANDOM_STATE),\n",
    "                         param_grid=param_grid_red, scoring=\"roc_auc\", cv=cv, n_jobs=-1)\n",
    "nn_red_gs.fit(Xtr_red, y_train)\n",
    "nn_red = nn_red_gs.best_estimator_\n",
    "_,_,auc_rt,proba_rt = eval_nn(nn_red, Xtr_red, y_train, Xte_red, y_test, \"NN tuned (reduced)\")\n",
    "\n",
    "# ROC: reduced features\n",
    "fpr_rb,tpr_rb,_ = roc_curve(y_test, proba_rb)\n",
    "fpr_rt,tpr_rt,_ = roc_curve(y_test, proba_rt)\n",
    "plt.figure()\n",
    "plt.plot(fpr_rb,tpr_rb,label=f\"Baseline AUC={auc_rb:.3f}\")\n",
    "plt.plot(fpr_rt,tpr_rt,label=f\"Tuned AUC={auc_rt:.3f}\")\n",
    "plt.plot([0,1],[0,1],\"k--\")\n",
    "plt.title(\"ROC — NN (reduced features)\")\n",
    "plt.xlabel(\"FPR\"); plt.ylabel(\"TPR\")\n",
    "plt.legend(); plt.show()\n",
    "\n",
    "# --- 4.4 Compare Full vs Reduced (best models) ---\n",
    "plt.figure()\n",
    "plt.plot(fpr_f,tpr_f,label=f\"Full tuned AUC={auc_f:.3f}\")\n",
    "plt.plot(fpr_rt,tpr_rt,label=f\"Reduced tuned AUC={auc_rt:.3f}\")\n",
    "plt.plot([0,1],[0,1],\"k--\")\n",
    "plt.title(\"ROC — NN full vs reduced\")\n",
    "plt.xlabel(\"FPR\"); plt.ylabel(\"TPR\")\n",
    "plt.legend(); plt.show()\n"
   ]
  },
  {
   "cell_type": "code",
   "execution_count": null,
   "id": "f9b18106-6c57-4ddb-809b-5c6499c83bf1",
   "metadata": {},
   "outputs": [],
   "source": []
  }
 ],
 "metadata": {
  "kernelspec": {
   "display_name": "Python [conda env:base] *",
   "language": "python",
   "name": "conda-base-py"
  },
  "language_info": {
   "codemirror_mode": {
    "name": "ipython",
    "version": 3
   },
   "file_extension": ".py",
   "mimetype": "text/x-python",
   "name": "python",
   "nbconvert_exporter": "python",
   "pygments_lexer": "ipython3",
   "version": "3.12.7"
  }
 },
 "nbformat": 4,
 "nbformat_minor": 5
}

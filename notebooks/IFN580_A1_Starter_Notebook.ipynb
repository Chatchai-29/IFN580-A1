{
 "cells": [
  {
   "cell_type": "markdown",
   "id": "90861ecd",
   "metadata": {},
   "source": [
    "\n",
    "# IFN580 – Assignment 1: Starter Notebook\n"
   ]
  },
  {
   "cell_type": "markdown",
   "id": "1a8812c4",
   "metadata": {},
   "source": [
    "## 1) Config & Imports"
   ]
  },
  {
   "cell_type": "code",
   "execution_count": null,
   "id": "441b2238",
   "metadata": {},
   "outputs": [],
   "source": [
    "\n",
    "# ---- User config ----\n",
    "RANDOM_STATE = 42\n",
    "TARGET_COL   = \"IsBadBuy\"   # change if different\n",
    "DATA_PATHS   = [\n",
    "    \"kick.csv\",                         # put the CSV next to this notebook\n",
    "    \"assignment 1 data kick.csv\",       # alt name (rename as needed)\n",
    "    \"./data/kick.csv\",                  # common project structure\n",
    "]\n",
    "\n",
    "# ---- Imports ----\n",
    "import os, sys, math, json, warnings\n",
    "import numpy as np\n",
    "import pandas as pd\n",
    "\n",
    "from sklearn.model_selection import train_test_split, GridSearchCV, StratifiedKFold\n",
    "from sklearn.compose import ColumnTransformer\n",
    "from sklearn.pipeline import Pipeline\n",
    "from sklearn.preprocessing import OneHotEncoder, StandardScaler\n",
    "from sklearn.impute import SimpleImputer\n",
    "from sklearn.metrics import (confusion_matrix, ConfusionMatrixDisplay,\n",
    "                             roc_curve, auc, RocCurveDisplay, classification_report,\n",
    "                             accuracy_score)\n",
    "from sklearn.feature_selection import RFE, RFECV, SelectFromModel\n",
    "\n",
    "from sklearn.tree import DecisionTreeClassifier\n",
    "from sklearn.linear_model import LogisticRegression\n",
    "from sklearn.neural_network import MLPClassifier\n",
    "\n",
    "import matplotlib.pyplot as plt\n",
    "\n",
    "warnings.filterwarnings(\"ignore\")\n",
    "np.random.seed(RANDOM_STATE)\n"
   ]
  },
  {
   "cell_type": "markdown",
   "id": "aa679fd1",
   "metadata": {},
   "source": [
    "## 2) Load Data"
   ]
  },
  {
   "cell_type": "code",
   "execution_count": null,
   "id": "89d25247",
   "metadata": {},
   "outputs": [],
   "source": [
    "\n",
    "def find_data(paths):\n",
    "    for p in paths:\n",
    "        if os.path.exists(p):\n",
    "            return p\n",
    "    return None\n",
    "\n",
    "DATA_PATH = find_data(DATA_PATHS)\n",
    "if DATA_PATH is None:\n",
    "    raise FileNotFoundError(\n",
    "        f\"CSV not found. Place your kick dataset next to this notebook as 'kick.csv' \"\n",
    "        f\"or update DATA_PATHS.\"\n",
    "    )\n",
    "\n",
    "print(f\"Using data at: {DATA_PATH}\")\n",
    "df = pd.read_csv(DATA_PATH)\n",
    "# --- PATCH AFTER \"2) Load Data\": handle '?' and coerce numeric-like columns ---\n",
    "# Replace '?' with real missing values so the pipeline can impute correctly\n",
    "df.replace('?', np.nan, inplace=True)\n",
    "\n",
    "# Try to convert columns that look numeric into real numbers\n",
    "coerced = []\n",
    "for c in df.columns:\n",
    "    if c == \"IsBadBuy\":\n",
    "        continue\n",
    "    s = pd.to_numeric(df[c], errors=\"coerce\")\n",
    "    # Treat as numeric if most values can be converted\n",
    "    if (s.notna().mean() > 0.6) and (s.notna().sum() > 100):\n",
    "        df[c] = s\n",
    "        coerced.append(c)\n",
    "print(\"Coerced to numeric (first few):\", coerced[:10], \"| total:\", len(coerced))\n"
   ]
  },
  {
   "cell_type": "markdown",
   "id": "f0b90fed",
   "metadata": {},
   "source": [
    "\n",
    "## 3) Quick Audit (Task 1)\n",
    "\n"
   ]
  },
  {
   "cell_type": "code",
   "execution_count": null,
   "id": "8fcafe21",
   "metadata": {},
   "outputs": [],
   "source": [
    "\n",
    "# Basic info\n",
    "display(df.info())\n",
    "display(df.describe(include='all').T)\n",
    "\n",
    "# Target distribution (before preprocessing)\n",
    "if TARGET_COL not in df.columns:\n",
    "    raise KeyError(f\"TARGET_COL '{TARGET_COL}' not found. Set TARGET_COL correctly.\")\n",
    "\n",
    "target_counts = df[TARGET_COL].value_counts(dropna=False)\n",
    "target_ratio  = target_counts / len(df)\n",
    "print(\"Target counts (before):\")\n",
    "display(pd.DataFrame({\"count\": target_counts, \"ratio\": target_ratio}))\n"
   ]
  }
 ],
 "metadata": {
  "kernelspec": {
   "display_name": "Python [conda env:base] *",
   "language": "python",
   "name": "conda-base-py"
  },
  "language_info": {
   "codemirror_mode": {
    "name": "ipython",
    "version": 3
   },
   "file_extension": ".py",
   "mimetype": "text/x-python",
   "name": "python",
   "nbconvert_exporter": "python",
   "pygments_lexer": "ipython3",
   "version": "3.12.7"
  }
 },
 "nbformat": 4,
 "nbformat_minor": 5
}
